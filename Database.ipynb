{
 "cells": [
  {
   "cell_type": "code",
   "execution_count": 1,
   "metadata": {},
   "outputs": [],
   "source": [
    "import psycopg2"
   ]
  },
  {
   "cell_type": "code",
   "execution_count": 2,
   "metadata": {},
   "outputs": [],
   "source": [
    "db_host = \"boots.c0it4vtdwwdb.us-east-2.rds.amazonaws.com\"\n",
    "db_port = 5432\n",
    "db_name = \"bootspostgres\"\n",
    "db_user = \"postgres\"\n",
    "db_pass = \"5JUDArLK9ir\"\n",
    "\n",
    "conn = psycopg2.connect(\"dbname='%s' user='%s' host='%s' password='%s'\" % (db_name, db_user, db_host, db_pass))\n",
    "cursor = conn.cursor()"
   ]
  },
  {
   "cell_type": "code",
   "execution_count": 12,
   "metadata": {},
   "outputs": [
    {
     "name": "stdout",
     "output_type": "stream",
     "text": [
      "3\n",
      "(6228, '12654rugvajhvyr512', '03qnjitjscr3', '10', 1, 5, 0, -4, 200.0, 'ci', '10', 19.0, 66.518)\n"
     ]
    }
   ],
   "source": [
    "prolific_PID = \"12654rugvajhvyr512\"\n",
    "session_ID = \"03qnjitjscr3\"\n",
    "payoff_query = \"SELECT * FROM p_responses WHERE PROLIFIC_PID = %s AND SESSION_ID = %s\"\n",
    "cursor.execute(payoff_query, [prolific_PID, session_ID])\n",
    "pay = cursor.fetchall()\n",
    "\n",
    "#print(pay)\n",
    "print(len(pay))\n",
    "print(pay[-1])"
   ]
  },
  {
   "cell_type": "code",
   "execution_count": 9,
   "metadata": {},
   "outputs": [],
   "source": [
    "query = \"DELETE FROM p_responses WHERE ID=(SELECT MAX(id) FROM p_responses)\"\n",
    "cursor.execute(query)\n",
    "conn.commit()"
   ]
  },
  {
   "cell_type": "code",
   "execution_count": null,
   "metadata": {},
   "outputs": [],
   "source": [
    "calc_correct_query = \"\"\"SELECT profitable FROM solutions WHERE trial = %s\"\"\"\n",
    "cursor.execute(calc_correct_query, [trial])"
   ]
  },
  {
   "cell_type": "code",
   "execution_count": 5,
   "metadata": {},
   "outputs": [
    {
     "ename": "ValueError",
     "evalue": "Trial counts don't match",
     "output_type": "error",
     "traceback": [
      "\u001b[0;31m---------------------------------------------------------------------------\u001b[0m",
      "\u001b[0;31mValueError\u001b[0m                                Traceback (most recent call last)",
      "\u001b[0;32m<ipython-input-5-011b4e3eab93>\u001b[0m in \u001b[0;36m<module>\u001b[0;34m\u001b[0m\n\u001b[1;32m      8\u001b[0m         \u001b[0;31m# we store cumulative payoff, so the last entry in the DB\u001b[0m\u001b[0;34m\u001b[0m\u001b[0;34m\u001b[0m\u001b[0;34m\u001b[0m\u001b[0m\n\u001b[1;32m      9\u001b[0m         \u001b[0;31m# should be the total payoff for the user so far\u001b[0m\u001b[0;34m\u001b[0m\u001b[0;34m\u001b[0m\u001b[0;34m\u001b[0m\u001b[0m\n\u001b[0;32m---> 10\u001b[0;31m         \u001b[0;32mif\u001b[0m \u001b[0mlen\u001b[0m\u001b[0;34m(\u001b[0m\u001b[0mpay\u001b[0m\u001b[0;34m)\u001b[0m \u001b[0;34m!=\u001b[0m \u001b[0;34m(\u001b[0m\u001b[0mtrials_count\u001b[0m \u001b[0;34m-\u001b[0m \u001b[0;36m1\u001b[0m\u001b[0;34m)\u001b[0m\u001b[0;34m:\u001b[0m \u001b[0;32mraise\u001b[0m \u001b[0mValueError\u001b[0m\u001b[0;34m(\u001b[0m\u001b[0;34m'Trial counts don\\'t match'\u001b[0m\u001b[0;34m)\u001b[0m\u001b[0;34m\u001b[0m\u001b[0;34m\u001b[0m\u001b[0m\n\u001b[0m\u001b[1;32m     11\u001b[0m         \u001b[0;32melse\u001b[0m\u001b[0;34m:\u001b[0m\u001b[0;34m\u001b[0m\u001b[0;34m\u001b[0m\u001b[0m\n\u001b[1;32m     12\u001b[0m             \u001b[0;32mif\u001b[0m \u001b[0mlen\u001b[0m\u001b[0;34m(\u001b[0m\u001b[0mpay\u001b[0m\u001b[0;34m)\u001b[0m \u001b[0;34m>\u001b[0m \u001b[0;36m0\u001b[0m\u001b[0;34m:\u001b[0m\u001b[0;34m\u001b[0m\u001b[0;34m\u001b[0m\u001b[0m\n",
      "\u001b[0;31mValueError\u001b[0m: Trial counts don't match"
     ]
    }
   ],
   "source": [
    "with conn:\n",
    "    with conn.cursor() as cursor:\n",
    "        # first get the responses of the user so far\n",
    "        payoff_query = \"SELECT cumulative_pay FROM p_responses WHERE PROLIFIC_PID = %s AND SESSION_ID = %s\"\n",
    "        cursor.execute(payoff_query, [prolific_PID, session_ID])\n",
    "        pay = cursor.fetchall()\n",
    "\n",
    "        # we store cumulative payoff, so the last entry in the DB\n",
    "        # should be the total payoff for the user so far\n",
    "        if len(pay) != (trials_count - 1): raise ValueError('Trial counts don\\'t match') \n",
    "        else:\n",
    "            if len(pay) > 0:\n",
    "                cumulative_pay = int(pay[-1][0])\n",
    "            else:\n",
    "                cumulative_pay = 0\n",
    "\n",
    "        # update the cumulative pay and record the response\n",
    "        cumulative_pay += win\n",
    "        query = \"\"\"INSERT INTO p_responses (id, PROLIFIC_PID, SESSION_ID, responses,\n",
    "        tp, tn, fp, fn, cumulative_pay, condition, incentive, trial, duration)\n",
    "        VALUES (DEFAULT, %s, %s, %s, %s, %s, %s, %s, %s, %s, %s, %s, %s)\"\"\"\n",
    "\n",
    "        cursor.execute(query, [prolific_PID, session_ID, p_responses,\n",
    "            result['tp'], result['tn'], result['fp'], result['fn'],\n",
    "            cumulative_pay, condition, incentive, trial, duration])\n",
    "        conn.commit()"
   ]
  },
  {
   "cell_type": "code",
   "execution_count": 10,
   "metadata": {},
   "outputs": [],
   "source": [
    "p_responses = \"6, 7, 8\"\n",
    "responses = list(map(int, p_responses.strip(\"\\\"\").split(\",\")))\n",
    "non_responses = [i for i in [i+1 if ((i+1) not in responses) else None for i in range(10)] if i]"
   ]
  },
  {
   "cell_type": "code",
   "execution_count": 12,
   "metadata": {},
   "outputs": [],
   "source": [
    "calc_correct_query = \"\"\"SELECT profitable FROM solutions WHERE trial = %s\"\"\"\n",
    "cursor.execute(calc_correct_query, [trial])\n",
    "solutions = cursor.fetchall()\n",
    "\n",
    "correct = [i[0] for i in solutions]\n",
    "\n",
    "positives = list(map(int, [correct[j-1] == True for j in responses]))\n",
    "negatives = list(map(int, [correct[j-1] == False for j in non_responses]))"
   ]
  },
  {
   "cell_type": "code",
   "execution_count": 15,
   "metadata": {},
   "outputs": [
    {
     "data": {
      "text/plain": [
       "[False, False, True, True, True, False, False, False, False, False]"
      ]
     },
     "execution_count": 15,
     "metadata": {},
     "output_type": "execute_result"
    }
   ],
   "source": [
    "correct"
   ]
  },
  {
   "cell_type": "markdown",
   "metadata": {},
   "source": [
    "### Get number of trials completed"
   ]
  },
  {
   "cell_type": "code",
   "execution_count": null,
   "metadata": {},
   "outputs": [],
   "source": [
    "query = \"DELETE FROM p_responses WHERE ID=(SELECT MAX(id) FROM p_responses)\"\n",
    "cursor.execute(query)\n",
    "conn.commit()"
   ]
  },
  {
   "cell_type": "code",
   "execution_count": 60,
   "metadata": {},
   "outputs": [],
   "source": [
    "prolific_PID = \"aiu134bsadb1t387tgr\"\n",
    "session_ID = \"03qnjitjscr3\"\n",
    "payoff_query = \"SELECT cumulative_pay FROM p_responses WHERE PROLIFIC_PID = %s AND SESSION_ID = %s\"\n",
    "cursor.execute(payoff_query, [prolific_PID, session_ID])\n",
    "cumulative_pay = 0\n",
    "pay = cursor.fetchall()"
   ]
  },
  {
   "cell_type": "code",
   "execution_count": 61,
   "metadata": {},
   "outputs": [
    {
     "name": "stdout",
     "output_type": "stream",
     "text": [
      "[(-80.0,), (0.0,), (40.0,), (-120.0,), (40.0,), (160.0,), (360.0,), (320.0,), (440.0,), (600.0,), (-1400.0,), (-1280.0,), (-1160.0,), (-1040.0,), (-920.0,), (-800.0,), (-680.0,), (-560.0,), (-440.0,), (-320.0,), (-200.0,), (-80.0,), (40.0,), (160.0,), (240.0,), (-1760.0,), (-1600.0,), (-1640.0,), (-1720.0,), (-1680.0,), (-1640.0,), (-1880.0,), (-1880.0,), (-80.0,), (-80.0,), (40.0,), (240.0,), (-1680.0,), (-3600.0,), (-5520.0,), (-7440.0,), (-9360.0,), (-11280.0,), (-13200.0,), (-15120.0,), (-15080.0,)]\n"
     ]
    },
    {
     "data": {
      "text/plain": [
       "46"
      ]
     },
     "execution_count": 61,
     "metadata": {},
     "output_type": "execute_result"
    }
   ],
   "source": [
    "print(pay)\n",
    "len(pay)"
   ]
  },
  {
   "cell_type": "markdown",
   "metadata": {},
   "source": [
    "### Insert a response in the DB"
   ]
  },
  {
   "cell_type": "markdown",
   "metadata": {},
   "source": [
    "Create a mock response to be inserted into the database"
   ]
  },
  {
   "cell_type": "code",
   "execution_count": 55,
   "metadata": {},
   "outputs": [],
   "source": [
    "p_responses = \"7,8,9\"\n",
    "result = {\"tp\": 3, \n",
    "    \"tn\": 4,\n",
    "    \"fp\": 1, \n",
    "    \"fn\": 2\n",
    "}\n",
    "cumulative_pay = -80\n",
    "incentive = \"10\"\n",
    "condition = \"raw-data\",\n",
    "alpha = \"1\",\n",
    "trial = 4,\n",
    "duration = 2.456"
   ]
  },
  {
   "cell_type": "code",
   "execution_count": 56,
   "metadata": {},
   "outputs": [],
   "source": [
    "query = \"\"\"INSERT INTO p_responses (id, PROLIFIC_PID, SESSION_ID, responses, \n",
    "            tp, tn, fp, fn, cumulative_pay, condition, incentive, trial, duration)\n",
    "            VALUES (DEFAULT, %s, %s, %s, %s, %s, %s, %s, %s, %s, %s, %s, %s)\"\"\"\n",
    "x = cursor.execute(query, [prolific_PID, session_ID, p_responses, \n",
    "                       result['tp'], result['tn'], result['fp'], result['fn'], \n",
    "                       cumulative_pay, condition, incentive, trial, duration])\n",
    "conn.commit()"
   ]
  },
  {
   "cell_type": "code",
   "execution_count": null,
   "metadata": {},
   "outputs": [],
   "source": []
  }
 ],
 "metadata": {
  "kernelspec": {
   "display_name": "Python 3",
   "language": "python",
   "name": "python3"
  },
  "language_info": {
   "codemirror_mode": {
    "name": "ipython",
    "version": 3
   },
   "file_extension": ".py",
   "mimetype": "text/x-python",
   "name": "python",
   "nbconvert_exporter": "python",
   "pygments_lexer": "ipython3",
   "version": "3.7.4"
  }
 },
 "nbformat": 4,
 "nbformat_minor": 2
}
